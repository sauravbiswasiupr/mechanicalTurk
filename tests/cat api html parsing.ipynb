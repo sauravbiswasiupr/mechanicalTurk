{
 "cells": [
  {
   "cell_type": "code",
   "execution_count": 1,
   "metadata": {
    "collapsed": true
   },
   "outputs": [],
   "source": [
    "import flask\n",
    "import requests\n",
    "import xml2json"
   ]
  },
  {
   "cell_type": "code",
   "execution_count": 22,
   "metadata": {
    "collapsed": false
   },
   "outputs": [],
   "source": [
    "def make_request(url):\n",
    "    try:\n",
    "        response_xml = requests.get(url)\n",
    "        return response_xml\n",
    "    except Exception as e:\n",
    "        print e"
   ]
  },
  {
   "cell_type": "code",
   "execution_count": 76,
   "metadata": {
    "collapsed": false
   },
   "outputs": [
    {
     "name": "stdout",
     "output_type": "stream",
     "text": [
      "<a target=\"_blank\" href=\"http://thecatapi.com/?id=cca\"><img src=\"http://25.media.tumblr.com/tumblr_m45v7crLCU1qb22w1o1_1280.jpg\"></a>\n",
      "<a target=\"_blank\" href=\"http://thecatapi.com/?id=7t2\"><img src=\"http://25.media.tumblr.com/tumblr_lijslvT92W1qcrivqo1_400.gif\"></a>\n",
      "<a target=\"_blank\" href=\"http://thecatapi.com/?id=4k4\"><img src=\"http://24.media.tumblr.com/tumblr_lhjnfsdULm1qzp85mo1_500.gif\"></a>\n",
      "<a target=\"_blank\" href=\"http://thecatapi.com/?id=38n\"><img src=\"http://24.media.tumblr.com/tumblr_lufphb5YMa1qdvbl3o1_500.jpg\"></a>\n",
      "<a target=\"_blank\" href=\"http://thecatapi.com/?id=460\"><img src=\"http://25.media.tumblr.com/tumblr_m3xrtmbQIb1qhwmnpo1_1280.jpg\"></a>\n",
      "<a target=\"_blank\" href=\"http://thecatapi.com/?id=9pv\"><img src=\"http://25.media.tumblr.com/tumblr_m2pd6jkuKR1qc7dc8o1_1280.jpg\"></a>\n",
      "<a target=\"_blank\" href=\"http://thecatapi.com/?id=9gf\"><img src=\"http://25.media.tumblr.com/tumblr_lowc49jL1h1qbe5pxo1_1280.jpg\"></a>\n",
      "<a target=\"_blank\" href=\"http://thecatapi.com/?id=ebe\"><img src=\"http://25.media.tumblr.com/tumblr_m4pwlk0czF1r6jd7fo1_500.jpg\"></a>\n",
      "<a target=\"_blank\" href=\"http://thecatapi.com/?id=879\"><img src=\"http://24.media.tumblr.com/tumblr_ljvgby5d2n1qzf0d9o1_500.jpg\"></a>\n",
      "<a target=\"_blank\" href=\"http://thecatapi.com/?id=2aq\"><img src=\"http://26.media.tumblr.com/Jjkybd3nSn74wm2306tETGcfo1_400.jpg\"></a>\n",
      "<a target=\"_blank\" href=\"http://thecatapi.com/?id=1qt\"><img src=\"http://25.media.tumblr.com/tumblr_lwiawp21y41qbhms5o1_500.jpg\"></a>\n",
      "<a target=\"_blank\" href=\"http://thecatapi.com/?id=MTcwOTI4NQ\"><img src=\"http://25.media.tumblr.com/tumblr_mbdsqr56GQ1qe11fno1_500.jpg\"></a>\n",
      "<a target=\"_blank\" href=\"http://thecatapi.com/?id=161\"><img src=\"http://26.media.tumblr.com/ZabOTt2mpekb89zlsNgqF0OYo1_500.jpg\"></a>\n",
      "<a target=\"_blank\" href=\"http://thecatapi.com/?id=7bu\"><img src=\"http://25.media.tumblr.com/tumblr_lyxwz19Zsp1r6b7kmo1_500.jpg\"></a>\n",
      "<a target=\"_blank\" href=\"http://thecatapi.com/?id=cmp\"><img src=\"http://25.media.tumblr.com/tumblr_lmuvqinkdV1qh92vlo1_1280.jpg\"></a>\n",
      "<a target=\"_blank\" href=\"http://thecatapi.com/?id=dq2\"><img src=\"http://24.media.tumblr.com/tumblr_m4lmqhcQp41qejbiro1_1280.jpg\"></a>\n",
      "<a target=\"_blank\" href=\"http://thecatapi.com/?id=1p7\"><img src=\"http://28.media.tumblr.com/tumblr_lwiaxlyG2U1qbhms5o1_500.jpg\"></a>\n",
      "<a target=\"_blank\" href=\"http://thecatapi.com/?id=732\"><img src=\"http://25.media.tumblr.com/Jjkybd3nSdcu4yy6zzbjLD8m_500.jpg\"></a>\n",
      "<a target=\"_blank\" href=\"http://thecatapi.com/?id=4hs\"><img src=\"http://24.media.tumblr.com/tumblr_lwu1sbjgEG1qzbf57o1_500.gif\"></a>\n",
      "<a target=\"_blank\" href=\"http://thecatapi.com/?id=5sh\"><img src=\"http://24.media.tumblr.com/tumblr_ln04a9DiP51qbt33io1_1280.jpg\"></a>\n",
      "<a target=\"_blank\" href=\"http://thecatapi.com/?id=1m4\"><img src=\"http://27.media.tumblr.com/Xxv0OgwjZpebnedjgJnIspBHo1_1280.jpg\"></a>\n",
      "<a target=\"_blank\" href=\"http://thecatapi.com/?id=6qk\"><img src=\"http://25.media.tumblr.com/tumblr_lw7gvi4FPy1qfqm2lo1_500.jpg\"></a>\n",
      "<a target=\"_blank\" href=\"http://thecatapi.com/?id=3m4\"><img src=\"http://24.media.tumblr.com/tumblr_m31zn3V1EW1qchut5o1_1280.jpg\"></a>\n",
      "<a target=\"_blank\" href=\"http://thecatapi.com/?id=9fp\"><img src=\"http://24.media.tumblr.com/tumblr_lq19lig9BB1qbe5pxo1_1280.jpg\"></a>\n",
      "<a target=\"_blank\" href=\"http://thecatapi.com/?id=6qi\"><img src=\"http://24.media.tumblr.com/tumblr_lwb4l8u72Q1qzv52ko1_1280.jpg\"></a>\n",
      "<a target=\"_blank\" href=\"http://thecatapi.com/?id=MTYwMTM2NA\"><img src=\"http://25.media.tumblr.com/tumblr_mbskalXgN81qhwmnpo1_1280.jpg\"></a>\n",
      "<a target=\"_blank\" href=\"http://thecatapi.com/?id=ag2\"><img src=\"http://25.media.tumblr.com/tumblr_m22pnzPVuN1qg39ewo1_500.gif\"></a>\n",
      "<a target=\"_blank\" href=\"http://thecatapi.com/?id=6q0\"><img src=\"http://24.media.tumblr.com/tumblr_lwgmxeLO0l1qzv52ko1_1280.jpg\"></a>\n",
      "<a target=\"_blank\" href=\"http://thecatapi.com/?id=6av\"><img src=\"http://25.media.tumblr.com/Xxv0OgwjZockkf0rLK7dJVRwo1_500.jpg\"></a>\n",
      "<a target=\"_blank\" href=\"http://thecatapi.com/?id=bo0\"><img src=\"http://24.media.tumblr.com/tumblr_m307sloS8G1qffkwto1_500.jpg\"></a>\n",
      "<a target=\"_blank\" href=\"http://thecatapi.com/?id=7cp\"><img src=\"http://24.media.tumblr.com/tumblr_lyxvyeQ1ex1r6b7kmo1_500.jpg\"></a>\n",
      "<a target=\"_blank\" href=\"http://thecatapi.com/?id=a74\"><img src=\"http://24.media.tumblr.com/tumblr_m2tgz47L2M1qze0hyo1_400.gif\"></a>\n",
      "<a target=\"_blank\" href=\"http://thecatapi.com/?id=4tn\"><img src=\"http://25.media.tumblr.com/tumblr_m3zaksTlPc1qm65o0o1_1280.jpg\"></a>\n",
      "<a target=\"_blank\" href=\"http://thecatapi.com/?id=3qo\"><img src=\"http://25.media.tumblr.com/tumblr_m3ja48dBHQ1r73wdao1_500.jpg\"></a>\n",
      "<a target=\"_blank\" href=\"http://thecatapi.com/?id=9at\"><img src=\"http://25.media.tumblr.com/tumblr_m12hnp9KdP1qbe5pxo1_1280.jpg\"></a>\n",
      "<a target=\"_blank\" href=\"http://thecatapi.com/?id=4g6\"><img src=\"http://25.media.tumblr.com/tumblr_m3ct9hGEw41rtbmh0o1_250.gif\"></a>\n",
      "<a target=\"_blank\" href=\"http://thecatapi.com/?id=64q\"><img src=\"http://25.media.tumblr.com/tumblr_lvw12cOvTN1qbuu1po1_500.jpg\"></a>\n",
      "<a target=\"_blank\" href=\"http://thecatapi.com/?id=efa\"><img src=\"http://25.media.tumblr.com/tumblr_m4li7dAYBJ1r2h6ioo1_500.gif\"></a>\n",
      "<a target=\"_blank\" href=\"http://thecatapi.com/?id=4ng\"><img src=\"http://25.media.tumblr.com/tumblr_m2sxc8BTm61qfb46yo1_500.jpg\"></a>\n",
      "<a target=\"_blank\" href=\"http://thecatapi.com/?id=alf\"><img src=\"http://24.media.tumblr.com/tumblr_m3oag0q3AN1qh28hmo1_1280.png\"></a>\n",
      "<a target=\"_blank\" href=\"http://thecatapi.com/?id=5fs\"><img src=\"http://25.media.tumblr.com/tumblr_ltasbgkh8a1r4xjo2o1_500.jpg\"></a>\n",
      "<a target=\"_blank\" href=\"http://thecatapi.com/?id=a7p\"><img src=\"http://25.media.tumblr.com/tumblr_m2olwsAcnk1qze0hyo1_500.jpg\"></a>\n",
      "<a target=\"_blank\" href=\"http://thecatapi.com/?id=8ia\"><img src=\"http://25.media.tumblr.com/tumblr_m44cx5JNHX1qhwmnpo1_1280.jpg\"></a>\n",
      "<a target=\"_blank\" href=\"http://thecatapi.com/?id=4ml\"><img src=\"http://25.media.tumblr.com/tumblr_m3qjcaIkNB1qh66wqo1_400.jpg\"></a>\n",
      "<a target=\"_blank\" href=\"http://thecatapi.com/?id=65s\"><img src=\"http://24.media.tumblr.com/tumblr_luu4l5AmkP1qzxrnuo1_1280.jpg\"></a>\n",
      "<a target=\"_blank\" href=\"http://thecatapi.com/?id=cnk\"><img src=\"http://24.media.tumblr.com/tumblr_lmkbpzX0nn1qdth8zo1_1280.jpg\"></a>\n",
      "<a target=\"_blank\" href=\"http://thecatapi.com/?id=5fa\"><img src=\"http://25.media.tumblr.com/tumblr_lt0m14WDuk1r4xjo2o1_500.jpg\"></a>\n",
      "<a target=\"_blank\" href=\"http://thecatapi.com/?id=cv8\"><img src=\"http://24.media.tumblr.com/tumblr_ly298sPbLb1qh66wqo1_1280.jpg\"></a>\n",
      "<a target=\"_blank\" href=\"http://thecatapi.com/?id=eeu\"><img src=\"http://24.media.tumblr.com/tumblr_m2lhln6GUz1qjev1to1_500.jpg\"></a>\n",
      "<a target=\"_blank\" href=\"http://thecatapi.com/?id=ehf\"><img src=\"http://24.media.tumblr.com/tumblr_m4ik3lQpu41r6jd7fo1_1280.jpg\"></a>\n",
      "<a target=\"_blank\" href=\"http://thecatapi.com/?id=4u3\"><img src=\"http://25.media.tumblr.com/tumblr_m4ehr5H52c1r73wdao1_1280.jpg\"></a>\n",
      "<a target=\"_blank\" href=\"http://thecatapi.com/?id=43a\"><img src=\"http://25.media.tumblr.com/tumblr_m3yn1ksidD1qe4vldo1_500.jpg\"></a>\n",
      "<a target=\"_blank\" href=\"http://thecatapi.com/?id=MTk0NDIyNw\"><img src=\"http://25.media.tumblr.com/tumblr_m7ccxquNol1qjev1to1_500.jpg\"></a>\n",
      "<a target=\"_blank\" href=\"http://thecatapi.com/?id=7p2\"><img src=\"http://25.media.tumblr.com/tumblr_m2w0fsoIna1rro1o5o1_500.gif\"></a>\n",
      "<a target=\"_blank\" href=\"http://thecatapi.com/?id=k3\"><img src=\"http://30.media.tumblr.com/tumblr_lsrvwunAnl1qzyrwvo1_1280.jpg\"></a>\n",
      "<a target=\"_blank\" href=\"http://thecatapi.com/?id=2ei\"><img src=\"http://27.media.tumblr.com/Jjkybd3nSejqwowxZdLJOlipo1_500.jpg\"></a>\n",
      "<a target=\"_blank\" href=\"http://thecatapi.com/?id=anh\"><img src=\"http://24.media.tumblr.com/tumblr_m3xq1a5BoL1qh66wqo1_1280.jpg\"></a>\n",
      "<a target=\"_blank\" href=\"http://thecatapi.com/?id=arq\"><img src=\"http://25.media.tumblr.com/tumblr_m2zcjzgU4N1qz5xqyo1_1280.jpg\"></a>\n",
      "<a target=\"_blank\" href=\"http://thecatapi.com/?id=2rc\"><img src=\"http://28.media.tumblr.com/qgIb8tERiqpi5o7rY7UVbTSko1_500.jpg\"></a>\n",
      "<a target=\"_blank\" href=\"http://thecatapi.com/?id=ddu\"><img src=\"http://24.media.tumblr.com/tumblr_la723pcYo41qze0hyo1_500.jpg\"></a>\n",
      "<a target=\"_blank\" href=\"http://thecatapi.com/?id=1ic\"><img src=\"http://24.media.tumblr.com/tumblr_kpbo64xEel1qzv5pwo1_500.jpg\"></a>\n",
      "<a target=\"_blank\" href=\"http://thecatapi.com/?id=93p\"><img src=\"http://25.media.tumblr.com/tumblr_lq5hhkW4qS1qgn992o1_1280.jpg\"></a>\n",
      "<a target=\"_blank\" href=\"http://thecatapi.com/?id=3us\"><img src=\"http://25.media.tumblr.com/tumblr_m3m6wl9HeJ1qhwmnpo1_1280.jpg\"></a>\n",
      "<a target=\"_blank\" href=\"http://thecatapi.com/?id=dca\"><img src=\"http://24.media.tumblr.com/tumblr_m37tfeN8Tr1qkmqsdo1_500.jpg\"></a>\n",
      "<a target=\"_blank\" href=\"http://thecatapi.com/?id=1nv\"><img src=\"http://26.media.tumblr.com/tumblr_lwkjvbE38b1qbhms5o1_500.jpg\"></a>\n",
      "<a target=\"_blank\" href=\"http://thecatapi.com/?id=b8\"><img src=\"http://24.media.tumblr.com/ZabOTt2mpdpa57w1QCTgRcPS_400.png\"></a>\n",
      "<a target=\"_blank\" href=\"http://thecatapi.com/?id=b8v\"><img src=\"http://24.media.tumblr.com/tumblr_ljj970xH5z1qgnva2o1_500.jpg\"></a>\n",
      "<a target=\"_blank\" href=\"http://thecatapi.com/?id=7q9\"><img src=\"http://25.media.tumblr.com/tumblr_m2wvbhENch1r73wdao1_400.gif\"></a>\n",
      "<a target=\"_blank\" href=\"http://thecatapi.com/?id=9gj\"><img src=\"http://25.media.tumblr.com/tumblr_lou0s4HDsP1qbe5pxo1_1280.jpg\"></a>\n",
      "<a target=\"_blank\" href=\"http://thecatapi.com/?id=6d4\"><img src=\"http://24.media.tumblr.com/qgIb8tERin8qpfow0uIkMGgVo1_400.jpg\"></a>\n",
      "<a target=\"_blank\" href=\"http://thecatapi.com/?id=av4\"><img src=\"http://24.media.tumblr.com/tumblr_m1fzzk3eXd1r6owouo1_500.jpg\"></a>\n",
      "<a target=\"_blank\" href=\"http://thecatapi.com/?id=b6u\"><img src=\"http://25.media.tumblr.com/tumblr_luvlbch3xs1qgnva2o1_500.jpg\"></a>\n",
      "<a target=\"_blank\" href=\"http://thecatapi.com/?id=2fg\"><img src=\"http://27.media.tumblr.com/tumblr_m3es41H6s21rtuomto1_500.jpg\"></a>\n",
      "<a target=\"_blank\" href=\"http://thecatapi.com/?id=8ge\"><img src=\"http://24.media.tumblr.com/tumblr_m3b7jejGKH1qzex9io1_1280.jpg\"></a>\n",
      "<a target=\"_blank\" href=\"http://thecatapi.com/?id=4db\"><img src=\"http://25.media.tumblr.com/tumblr_lkvs2cQvZ01qjc1a7o1_500.gif\"></a>\n",
      "<a target=\"_blank\" href=\"http://thecatapi.com/?id=MTUyOTMzMw\"><img src=\"http://25.media.tumblr.com/tumblr_mbxst4f04w1qzex9io1_1280.jpg\"></a>\n",
      "<a target=\"_blank\" href=\"http://thecatapi.com/?id=948\"><img src=\"http://24.media.tumblr.com/tumblr_lrfacptsW41qgor9yo1_500.gif\"></a>\n",
      "<a target=\"_blank\" href=\"http://thecatapi.com/?id=4ch\"><img src=\"http://25.media.tumblr.com/tumblr_llr5t9Jyex1qze5g2o1_500.gif\"></a>\n",
      "<a target=\"_blank\" href=\"http://thecatapi.com/?id=dir\"><img src=\"http://24.media.tumblr.com/tumblr_m2b9yavfQz1qzpacno1_1280.jpg\"></a>\n",
      "<a target=\"_blank\" href=\"http://thecatapi.com/?id=3q6\"><img src=\"http://25.media.tumblr.com/tumblr_m3mrkdNBxm1r73wdao1_250.gif\"></a>\n",
      "<a target=\"_blank\" href=\"http://thecatapi.com/?id=306\"><img src=\"http://24.media.tumblr.com/tumblr_m2ppnpZ7iX1qhwmnpo1_1280.jpg\"></a>\n",
      "<a target=\"_blank\" href=\"http://thecatapi.com/?id=c5e\"><img src=\"http://25.media.tumblr.com/tumblr_m1okmwnJKe1qgjltdo1_1280.jpg\"></a>\n",
      "<a target=\"_blank\" href=\"http://thecatapi.com/?id=3j4\"><img src=\"http://24.media.tumblr.com/tumblr_m03jyybhPd1qlif1bo1_1280.jpg\"></a>\n",
      "<a target=\"_blank\" href=\"http://thecatapi.com/?id=9oc\"><img src=\"http://24.media.tumblr.com/tumblr_lys8z7aFSw1qzex9io1_500.jpg\"></a>\n",
      "<a target=\"_blank\" href=\"http://thecatapi.com/?id=2ke\"><img src=\"http://25.media.tumblr.com/tumblr_m2fsi3ce601r6b7kmo1_500.jpg\"></a>\n",
      "<a target=\"_blank\" href=\"http://thecatapi.com/?id=3tp\"><img src=\"http://24.media.tumblr.com/tumblr_m3pm3exLY11qjahcpo1_1280.jpg\"></a>\n",
      "<a target=\"_blank\" href=\"http://thecatapi.com/?id=5ha\"><img src=\"http://25.media.tumblr.com/tumblr_lsw529joGQ1r4xjo2o1_1280.jpg\"></a>\n",
      "<a target=\"_blank\" href=\"http://thecatapi.com/?id=8f7\"><img src=\"http://25.media.tumblr.com/qgIb8tERimwsrgcgwL7NSEYXo1_500.jpg\"></a>\n",
      "<a target=\"_blank\" href=\"http://thecatapi.com/?id=MTY5NTM2Mg\"><img src=\"http://25.media.tumblr.com/tumblr_mas3h03ocM1rn0tyoo1_1280.jpg\"></a>\n",
      "<a target=\"_blank\" href=\"http://thecatapi.com/?id=4e9\"><img src=\"http://25.media.tumblr.com/tumblr_lkhdr2MYfH1qjzv8oo1_500.gif\"></a>\n",
      "<a target=\"_blank\" href=\"http://thecatapi.com/?id=ca1\"><img src=\"http://25.media.tumblr.com/tumblr_lz7miyQgCc1qgjltdo1_1280.jpg\"></a>\n",
      "<a target=\"_blank\" href=\"http://thecatapi.com/?id=40l\"><img src=\"http://24.media.tumblr.com/tumblr_m42xgtZLnC1qzex9io1_1280.jpg\"></a>\n",
      "<a target=\"_blank\" href=\"http://thecatapi.com/?id=e6a\"><img src=\"http://25.media.tumblr.com/tumblr_m4s0erVtBe1r6jd7fo1_500.jpg\"></a>\n",
      "<a target=\"_blank\" href=\"http://thecatapi.com/?id=29g\"><img src=\"http://24.media.tumblr.com/tumblr_kp3dpkHaBw1qz9bf5o1_400.jpg\"></a>\n",
      "<a target=\"_blank\" href=\"http://thecatapi.com/?id=5q8\"><img src=\"http://25.media.tumblr.com/tumblr_lnte6qJSx11qbt33io1_1280.jpg\"></a>\n",
      "<a target=\"_blank\" href=\"http://thecatapi.com/?id=5gv\"><img src=\"http://25.media.tumblr.com/tumblr_lt0lv09P2c1r4xjo2o1_500.jpg\"></a>\n",
      "<a target=\"_blank\" href=\"http://thecatapi.com/?id=a6m\"><img src=\"http://24.media.tumblr.com/tumblr_m33h9herY21qze0hyo1_1280.jpg\"></a>\n",
      "<a target=\"_blank\" href=\"http://thecatapi.com/?id=cpl\"><img src=\"http://25.media.tumblr.com/tumblr_lxtejbRUvo1r729xuo1_500.gif\"></a>\n",
      "<a target=\"_blank\" href=\"http://thecatapi.com/?id=at5\"><img src=\"http://25.media.tumblr.com/tumblr_m279sjXMgj1qzp2edo1_1280.png\"></a>\n",
      "<a target=\"_blank\" href=\"http://thecatapi.com/?id=8gg\"><img src=\"http://25.media.tumblr.com/tumblr_m4h71yrFH51rwcc6bo1_500.gif\"></a>\n",
      "\n"
     ]
    }
   ],
   "source": [
    "URL = \"http://thecatapi.com/api/images/get?format=html&results_per_page=100\"\n",
    "result = make_request(URL)\n",
    "print result.content"
   ]
  },
  {
   "cell_type": "code",
   "execution_count": 66,
   "metadata": {
    "collapsed": false
   },
   "outputs": [],
   "source": [
    "from xml2json import xml2json\n",
    "import xml.etree.ElementTree as ET\n",
    "from bs4 import BeautifulSoup"
   ]
  },
  {
   "cell_type": "code",
   "execution_count": 77,
   "metadata": {
    "collapsed": true
   },
   "outputs": [],
   "source": [
    "soup = BeautifulSoup(result.content, \"html.parser\")"
   ]
  },
  {
   "cell_type": "code",
   "execution_count": 78,
   "metadata": {
    "collapsed": false
   },
   "outputs": [
    {
     "name": "stdout",
     "output_type": "stream",
     "text": [
      "http://25.media.tumblr.com/tumblr_m45v7crLCU1qb22w1o1_1280.jpg\n",
      "http://25.media.tumblr.com/tumblr_lijslvT92W1qcrivqo1_400.gif\n",
      "http://24.media.tumblr.com/tumblr_lhjnfsdULm1qzp85mo1_500.gif\n",
      "http://24.media.tumblr.com/tumblr_lufphb5YMa1qdvbl3o1_500.jpg\n",
      "http://25.media.tumblr.com/tumblr_m3xrtmbQIb1qhwmnpo1_1280.jpg\n",
      "http://25.media.tumblr.com/tumblr_m2pd6jkuKR1qc7dc8o1_1280.jpg\n",
      "http://25.media.tumblr.com/tumblr_lowc49jL1h1qbe5pxo1_1280.jpg\n",
      "http://25.media.tumblr.com/tumblr_m4pwlk0czF1r6jd7fo1_500.jpg\n",
      "http://24.media.tumblr.com/tumblr_ljvgby5d2n1qzf0d9o1_500.jpg\n",
      "http://26.media.tumblr.com/Jjkybd3nSn74wm2306tETGcfo1_400.jpg\n",
      "http://25.media.tumblr.com/tumblr_lwiawp21y41qbhms5o1_500.jpg\n",
      "http://25.media.tumblr.com/tumblr_mbdsqr56GQ1qe11fno1_500.jpg\n",
      "http://26.media.tumblr.com/ZabOTt2mpekb89zlsNgqF0OYo1_500.jpg\n",
      "http://25.media.tumblr.com/tumblr_lyxwz19Zsp1r6b7kmo1_500.jpg\n",
      "http://25.media.tumblr.com/tumblr_lmuvqinkdV1qh92vlo1_1280.jpg\n",
      "http://24.media.tumblr.com/tumblr_m4lmqhcQp41qejbiro1_1280.jpg\n",
      "http://28.media.tumblr.com/tumblr_lwiaxlyG2U1qbhms5o1_500.jpg\n",
      "http://25.media.tumblr.com/Jjkybd3nSdcu4yy6zzbjLD8m_500.jpg\n",
      "http://24.media.tumblr.com/tumblr_lwu1sbjgEG1qzbf57o1_500.gif\n",
      "http://24.media.tumblr.com/tumblr_ln04a9DiP51qbt33io1_1280.jpg\n",
      "http://27.media.tumblr.com/Xxv0OgwjZpebnedjgJnIspBHo1_1280.jpg\n",
      "http://25.media.tumblr.com/tumblr_lw7gvi4FPy1qfqm2lo1_500.jpg\n",
      "http://24.media.tumblr.com/tumblr_m31zn3V1EW1qchut5o1_1280.jpg\n",
      "http://24.media.tumblr.com/tumblr_lq19lig9BB1qbe5pxo1_1280.jpg\n",
      "http://24.media.tumblr.com/tumblr_lwb4l8u72Q1qzv52ko1_1280.jpg\n",
      "http://25.media.tumblr.com/tumblr_mbskalXgN81qhwmnpo1_1280.jpg\n",
      "http://25.media.tumblr.com/tumblr_m22pnzPVuN1qg39ewo1_500.gif\n",
      "http://24.media.tumblr.com/tumblr_lwgmxeLO0l1qzv52ko1_1280.jpg\n",
      "http://25.media.tumblr.com/Xxv0OgwjZockkf0rLK7dJVRwo1_500.jpg\n",
      "http://24.media.tumblr.com/tumblr_m307sloS8G1qffkwto1_500.jpg\n",
      "http://24.media.tumblr.com/tumblr_lyxvyeQ1ex1r6b7kmo1_500.jpg\n",
      "http://24.media.tumblr.com/tumblr_m2tgz47L2M1qze0hyo1_400.gif\n",
      "http://25.media.tumblr.com/tumblr_m3zaksTlPc1qm65o0o1_1280.jpg\n",
      "http://25.media.tumblr.com/tumblr_m3ja48dBHQ1r73wdao1_500.jpg\n",
      "http://25.media.tumblr.com/tumblr_m12hnp9KdP1qbe5pxo1_1280.jpg\n",
      "http://25.media.tumblr.com/tumblr_m3ct9hGEw41rtbmh0o1_250.gif\n",
      "http://25.media.tumblr.com/tumblr_lvw12cOvTN1qbuu1po1_500.jpg\n",
      "http://25.media.tumblr.com/tumblr_m4li7dAYBJ1r2h6ioo1_500.gif\n",
      "http://25.media.tumblr.com/tumblr_m2sxc8BTm61qfb46yo1_500.jpg\n",
      "http://24.media.tumblr.com/tumblr_m3oag0q3AN1qh28hmo1_1280.png\n",
      "http://25.media.tumblr.com/tumblr_ltasbgkh8a1r4xjo2o1_500.jpg\n",
      "http://25.media.tumblr.com/tumblr_m2olwsAcnk1qze0hyo1_500.jpg\n",
      "http://25.media.tumblr.com/tumblr_m44cx5JNHX1qhwmnpo1_1280.jpg\n",
      "http://25.media.tumblr.com/tumblr_m3qjcaIkNB1qh66wqo1_400.jpg\n",
      "http://24.media.tumblr.com/tumblr_luu4l5AmkP1qzxrnuo1_1280.jpg\n",
      "http://24.media.tumblr.com/tumblr_lmkbpzX0nn1qdth8zo1_1280.jpg\n",
      "http://25.media.tumblr.com/tumblr_lt0m14WDuk1r4xjo2o1_500.jpg\n",
      "http://24.media.tumblr.com/tumblr_ly298sPbLb1qh66wqo1_1280.jpg\n",
      "http://24.media.tumblr.com/tumblr_m2lhln6GUz1qjev1to1_500.jpg\n",
      "http://24.media.tumblr.com/tumblr_m4ik3lQpu41r6jd7fo1_1280.jpg\n",
      "http://25.media.tumblr.com/tumblr_m4ehr5H52c1r73wdao1_1280.jpg\n",
      "http://25.media.tumblr.com/tumblr_m3yn1ksidD1qe4vldo1_500.jpg\n",
      "http://25.media.tumblr.com/tumblr_m7ccxquNol1qjev1to1_500.jpg\n",
      "http://25.media.tumblr.com/tumblr_m2w0fsoIna1rro1o5o1_500.gif\n",
      "http://30.media.tumblr.com/tumblr_lsrvwunAnl1qzyrwvo1_1280.jpg\n",
      "http://27.media.tumblr.com/Jjkybd3nSejqwowxZdLJOlipo1_500.jpg\n",
      "http://24.media.tumblr.com/tumblr_m3xq1a5BoL1qh66wqo1_1280.jpg\n",
      "http://25.media.tumblr.com/tumblr_m2zcjzgU4N1qz5xqyo1_1280.jpg\n",
      "http://28.media.tumblr.com/qgIb8tERiqpi5o7rY7UVbTSko1_500.jpg\n",
      "http://24.media.tumblr.com/tumblr_la723pcYo41qze0hyo1_500.jpg\n",
      "http://24.media.tumblr.com/tumblr_kpbo64xEel1qzv5pwo1_500.jpg\n",
      "http://25.media.tumblr.com/tumblr_lq5hhkW4qS1qgn992o1_1280.jpg\n",
      "http://25.media.tumblr.com/tumblr_m3m6wl9HeJ1qhwmnpo1_1280.jpg\n",
      "http://24.media.tumblr.com/tumblr_m37tfeN8Tr1qkmqsdo1_500.jpg\n",
      "http://26.media.tumblr.com/tumblr_lwkjvbE38b1qbhms5o1_500.jpg\n",
      "http://24.media.tumblr.com/ZabOTt2mpdpa57w1QCTgRcPS_400.png\n",
      "http://24.media.tumblr.com/tumblr_ljj970xH5z1qgnva2o1_500.jpg\n",
      "http://25.media.tumblr.com/tumblr_m2wvbhENch1r73wdao1_400.gif\n",
      "http://25.media.tumblr.com/tumblr_lou0s4HDsP1qbe5pxo1_1280.jpg\n",
      "http://24.media.tumblr.com/qgIb8tERin8qpfow0uIkMGgVo1_400.jpg\n",
      "http://24.media.tumblr.com/tumblr_m1fzzk3eXd1r6owouo1_500.jpg\n",
      "http://25.media.tumblr.com/tumblr_luvlbch3xs1qgnva2o1_500.jpg\n",
      "http://27.media.tumblr.com/tumblr_m3es41H6s21rtuomto1_500.jpg\n",
      "http://24.media.tumblr.com/tumblr_m3b7jejGKH1qzex9io1_1280.jpg\n",
      "http://25.media.tumblr.com/tumblr_lkvs2cQvZ01qjc1a7o1_500.gif\n",
      "http://25.media.tumblr.com/tumblr_mbxst4f04w1qzex9io1_1280.jpg\n",
      "http://24.media.tumblr.com/tumblr_lrfacptsW41qgor9yo1_500.gif\n",
      "http://25.media.tumblr.com/tumblr_llr5t9Jyex1qze5g2o1_500.gif\n",
      "http://24.media.tumblr.com/tumblr_m2b9yavfQz1qzpacno1_1280.jpg\n",
      "http://25.media.tumblr.com/tumblr_m3mrkdNBxm1r73wdao1_250.gif\n",
      "http://24.media.tumblr.com/tumblr_m2ppnpZ7iX1qhwmnpo1_1280.jpg\n",
      "http://25.media.tumblr.com/tumblr_m1okmwnJKe1qgjltdo1_1280.jpg\n",
      "http://24.media.tumblr.com/tumblr_m03jyybhPd1qlif1bo1_1280.jpg\n",
      "http://24.media.tumblr.com/tumblr_lys8z7aFSw1qzex9io1_500.jpg\n",
      "http://25.media.tumblr.com/tumblr_m2fsi3ce601r6b7kmo1_500.jpg\n",
      "http://24.media.tumblr.com/tumblr_m3pm3exLY11qjahcpo1_1280.jpg\n",
      "http://25.media.tumblr.com/tumblr_lsw529joGQ1r4xjo2o1_1280.jpg\n",
      "http://25.media.tumblr.com/qgIb8tERimwsrgcgwL7NSEYXo1_500.jpg\n",
      "http://25.media.tumblr.com/tumblr_mas3h03ocM1rn0tyoo1_1280.jpg\n",
      "http://25.media.tumblr.com/tumblr_lkhdr2MYfH1qjzv8oo1_500.gif\n",
      "http://25.media.tumblr.com/tumblr_lz7miyQgCc1qgjltdo1_1280.jpg\n",
      "http://24.media.tumblr.com/tumblr_m42xgtZLnC1qzex9io1_1280.jpg\n",
      "http://25.media.tumblr.com/tumblr_m4s0erVtBe1r6jd7fo1_500.jpg\n",
      "http://24.media.tumblr.com/tumblr_kp3dpkHaBw1qz9bf5o1_400.jpg\n",
      "http://25.media.tumblr.com/tumblr_lnte6qJSx11qbt33io1_1280.jpg\n",
      "http://25.media.tumblr.com/tumblr_lt0lv09P2c1r4xjo2o1_500.jpg\n",
      "http://24.media.tumblr.com/tumblr_m33h9herY21qze0hyo1_1280.jpg\n",
      "http://25.media.tumblr.com/tumblr_lxtejbRUvo1r729xuo1_500.gif\n",
      "http://25.media.tumblr.com/tumblr_m279sjXMgj1qzp2edo1_1280.png\n",
      "http://25.media.tumblr.com/tumblr_m4h71yrFH51rwcc6bo1_500.gif\n"
     ]
    }
   ],
   "source": [
    "for a in soup.find_all(\"a\"):\n",
    "    print a.img.get(\"src\")"
   ]
  },
  {
   "cell_type": "code",
   "execution_count": 64,
   "metadata": {
    "collapsed": false
   },
   "outputs": [
    {
     "ename": "ParseError",
     "evalue": "mismatched tag: line 1, column 130",
     "output_type": "error",
     "traceback": [
      "\u001b[0;36m  File \u001b[0;32m\"<string>\"\u001b[0;36m, line \u001b[0;32munknown\u001b[0m\n\u001b[0;31mParseError\u001b[0m\u001b[0;31m:\u001b[0m mismatched tag: line 1, column 130\n"
     ]
    }
   ],
   "source": [
    "xmlresult = ET.fromstring(result.content)\n",
    "print xmlresult.tag, xmlresult.attrib"
   ]
  },
  {
   "cell_type": "code",
   "execution_count": 55,
   "metadata": {
    "collapsed": false
   },
   "outputs": [
    {
     "name": "stdout",
     "output_type": "stream",
     "text": [
      "ImageUrl:  http://25.media.tumblr.com/tumblr_ly9rk4rm3q1r0yf4go1_1280.jpg\n",
      "Id:  6n6\n",
      "source url:  http://thecatapi.com/?id=6n6\n",
      "ImageUrl:  http://25.media.tumblr.com/tumblr_lp3ejafMMw1qasbyxo1_500.jpg\n",
      "Id:  963\n",
      "source url:  http://thecatapi.com/?id=963\n",
      "ImageUrl:  http://25.media.tumblr.com/tumblr_m9hujdKUEm1qjev1to1_1280.jpg\n",
      "Id:  MjA2MTc4MA\n",
      "source url:  http://thecatapi.com/?id=MjA2MTc4MA\n",
      "ImageUrl:  http://24.media.tumblr.com/tumblr_lqdadfLTd11qenqklo1_500.png\n",
      "Id:  8pf\n",
      "source url:  http://thecatapi.com/?id=8pf\n",
      "ImageUrl:  http://24.media.tumblr.com/tumblr_m1c9ajeRJ81qejbiro1_1280.jpg\n",
      "Id:  e4r\n",
      "source url:  http://thecatapi.com/?id=e4r\n",
      "ImageUrl:  http://25.media.tumblr.com/tumblr_m2lcuvCf781rro1o5o1_500.jpg\n",
      "Id:  8th\n",
      "source url:  http://thecatapi.com/?id=8th\n",
      "ImageUrl:  http://25.media.tumblr.com/tumblr_m412kpj4Uv1r533pbo1_1280.jpg\n",
      "Id:  44n\n",
      "source url:  http://thecatapi.com/?id=44n\n",
      "ImageUrl:  http://28.media.tumblr.com/tumblr_m310et7XJE1r6b7kmo1_500.gif\n",
      "Id:  2il\n",
      "source url:  http://thecatapi.com/?id=2il\n",
      "ImageUrl:  http://24.media.tumblr.com/tumblr_lhyux0BYVY1qcn249o1_250.gif\n",
      "Id:  7tg\n",
      "source url:  http://thecatapi.com/?id=7tg\n",
      "ImageUrl:  http://25.media.tumblr.com/tumblr_lt0ig1mi131r4xjo2o1_1280.jpg\n",
      "Id:  5go\n",
      "source url:  http://thecatapi.com/?id=5go\n",
      "ImageUrl:  http://24.media.tumblr.com/tumblr_ma7jlxaQrH1r6jd7fo1_500.jpg\n",
      "Id:  MjA2NDUzMg\n",
      "source url:  http://thecatapi.com/?id=MjA2NDUzMg\n",
      "ImageUrl:  http://25.media.tumblr.com/Jjkybd3nSihjkbhf78uTb3g6o1_500.jpg\n",
      "Id:  2cr\n",
      "source url:  http://thecatapi.com/?id=2cr\n",
      "ImageUrl:  http://24.media.tumblr.com/tumblr_lt01vq3Gfx1qe93e5o1_500.jpg\n",
      "Id:  94t\n",
      "source url:  http://thecatapi.com/?id=94t\n",
      "ImageUrl:  http://25.media.tumblr.com/tumblr_lh2da4h5uV1qgnva2o1_500.jpg\n",
      "Id:  bf6\n",
      "source url:  http://thecatapi.com/?id=bf6\n",
      "ImageUrl:  http://25.media.tumblr.com/tumblr_m1coixFdhJ1rpp7mso1_500.jpg\n",
      "Id:  8uf\n",
      "source url:  http://thecatapi.com/?id=8uf\n",
      "ImageUrl:  http://25.media.tumblr.com/tumblr_m19pvdFnnc1qmt4rro1_500.jpg\n",
      "Id:  84p\n",
      "source url:  http://thecatapi.com/?id=84p\n",
      "ImageUrl:  http://24.media.tumblr.com/tumblr_luvj9zyf7t1qgnva2o1_400.gif\n",
      "Id:  b7r\n",
      "source url:  http://thecatapi.com/?id=b7r\n",
      "ImageUrl:  http://25.media.tumblr.com/tumblr_m2tffu3ycO1rnvzfwo1_500.jpg\n",
      "Id:  9mh\n",
      "source url:  http://thecatapi.com/?id=9mh\n",
      "ImageUrl:  http://24.media.tumblr.com/tumblr_m890d7IASK1r9xs59o1_500.gif\n",
      "Id:  MTkwNTgyNg\n",
      "source url:  http://thecatapi.com/?id=MTkwNTgyNg\n",
      "ImageUrl:  http://24.media.tumblr.com/tumblr_lhc5d3gwZ01qgnva2o1_500.jpg\n",
      "Id:  beg\n",
      "source url:  http://thecatapi.com/?id=beg\n"
     ]
    }
   ],
   "source": [
    "images = xmlresult[0][0]\n",
    "for child in images:\n",
    "    print \"ImageUrl: \", child[0].text\n",
    "    print \"Id: \", child[1].text\n",
    "    print \"source url: \", child[2].text"
   ]
  },
  {
   "cell_type": "code",
   "execution_count": null,
   "metadata": {
    "collapsed": true
   },
   "outputs": [],
   "source": []
  }
 ],
 "metadata": {
  "kernelspec": {
   "display_name": "Python 2",
   "language": "python",
   "name": "python2"
  },
  "language_info": {
   "codemirror_mode": {
    "name": "ipython",
    "version": 2
   },
   "file_extension": ".py",
   "mimetype": "text/x-python",
   "name": "python",
   "nbconvert_exporter": "python",
   "pygments_lexer": "ipython2",
   "version": "2.7.10"
  }
 },
 "nbformat": 4,
 "nbformat_minor": 0
}
